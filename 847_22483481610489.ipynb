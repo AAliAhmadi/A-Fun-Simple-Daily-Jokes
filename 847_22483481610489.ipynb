{
 "cells": [
  {
   "cell_type": "code",
   "execution_count": 2,
   "metadata": {},
   "outputs": [
    {
     "name": "stdout",
     "output_type": "stream",
     "text": [
      "<Response [200]>\n",
      "jokeA: I WRITE MY JOKES IN CAPITALS.THIS ONE WAS WRITTEN IN PARIS.\n",
      "<Response [200]>\n",
      "jokeB: How do you find Will Smith in the snow?  Look for fresh prints.\n",
      "<Response [400]>\n",
      "If you want a third joke from api.api-ninjas.com, You need a valid API key for this. If you want it, go to \n",
      "\n",
      "              api.api-ninjas.com \n",
      " and get a valid API key and put it in API part.\n"
     ]
    }
   ],
   "source": [
    "import requests\n",
    "from abc import ABC, abstractmethod\n",
    "\n",
    "class Joker(ABC):\n",
    "    def __init__(self,  **kwargs):\n",
    "        pass\n",
    "    @abstractmethod\n",
    "    def get_random_joke():\n",
    "        pass\n",
    "    \n",
    "    \n",
    "    \n",
    "class JokerA(Joker):\n",
    "    def __init__(self,  **kwargs):\n",
    "        pass\n",
    "        \n",
    "    def get_random_joke(self):\n",
    "        api_url= 'https://v2.jokeapi.dev/joke/Misc'\n",
    "        response = requests.get(api_url)\n",
    "        print(response)\n",
    "        result= response.json()\n",
    "        if result['type']== 'twopart':\n",
    "            x= result['setup']+ result['delivery']\n",
    "        elif result['type']== 'single':\n",
    "            x= result['joke']\n",
    "        return f\"jokeA: {x}\"\n",
    "    \n",
    "\n",
    "class JokerB(Joker):\n",
    "    def __init__(self, **kwargs):\n",
    "        pass\n",
    "               \n",
    "    def get_random_joke(self):\n",
    "        api_url= \"https://icanhazdadjoke.com/slack\"\n",
    "        response = requests.get(api_url)\n",
    "        print(response)\n",
    "        result= response.json()\n",
    "        return f\"jokeB: {result['attachments'][0]['text']}\"\n",
    "\n",
    "    \n",
    "class JokerC(Joker):\n",
    "    def __init__(self, **kwargs):\n",
    "        self.api_key= kwargs.get('api_token')\n",
    "        \n",
    "    def get_random_joke(self):\n",
    "        api_url= 'https://api.api-ninjas.com/v1/jokes?limit={}'\n",
    "        response = requests.get(api_url, headers={'X-Api-Key': self.api_key})\n",
    "        result= response.json()\n",
    "        print(response)\n",
    "        return f\"jokeC: {result[0]['joke']}\"\n",
    " \n",
    "\n",
    "if __name__ == '__main__':\n",
    "    jokeA= JokerA()\n",
    "    print(jokeA.get_random_joke())\n",
    "    \n",
    "    jokeB= JokerB()\n",
    "    print(jokeB.get_random_joke())\n",
    "\n",
    "    API= ''\n",
    "    jokeC= JokerC(api_token= API)\n",
    "    try:\n",
    "        print(jokeC.get_random_joke())\n",
    "    except:\n",
    "        print(\"\"\"If you want a third joke from api.api-ninjas.com, You need a valid API key for this. If you want it, go to \\n\n",
    "              api.api-ninjas.com \\n and get a valid API key and put it in API part.\"\"\")"
   ]
  },
  {
   "cell_type": "code",
   "execution_count": null,
   "metadata": {},
   "outputs": [],
   "source": []
  }
 ],
 "metadata": {
  "accelerator": "GPU",
  "colab": {
   "gpuType": "T4",
   "provenance": []
  },
  "kernelspec": {
   "display_name": "Python 3",
   "language": "python",
   "name": "python3"
  },
  "language_info": {
   "codemirror_mode": {
    "name": "ipython",
    "version": 3
   },
   "file_extension": ".py",
   "mimetype": "text/x-python",
   "name": "python",
   "nbconvert_exporter": "python",
   "pygments_lexer": "ipython3",
   "version": "3.7.4"
  }
 },
 "nbformat": 4,
 "nbformat_minor": 1
}
